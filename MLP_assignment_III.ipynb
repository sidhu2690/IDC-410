{
  "nbformat": 4,
  "nbformat_minor": 0,
  "metadata": {
    "colab": {
      "provenance": [],
      "authorship_tag": "ABX9TyODAX2rN36M2S/3bhXUbCFv",
      "include_colab_link": true
    },
    "kernelspec": {
      "name": "python3",
      "display_name": "Python 3"
    },
    "language_info": {
      "name": "python"
    }
  },
  "cells": [
    {
      "cell_type": "markdown",
      "metadata": {
        "id": "view-in-github",
        "colab_type": "text"
      },
      "source": [
        "<a href=\"https://colab.research.google.com/github/sidhu2690/IDC-410/blob/main/MLP_assignment_III.ipynb\" target=\"_parent\"><img src=\"https://colab.research.google.com/assets/colab-badge.svg\" alt=\"Open In Colab\"/></a>"
      ]
    },
    {
      "cell_type": "code",
      "execution_count": 10,
      "metadata": {
        "id": "VKzsmpymzrGN"
      },
      "outputs": [],
      "source": [
        "import numpy as np\n",
        "import matplotlib.pyplot as plt\n",
        "from sklearn.model_selection import train_test_split"
      ]
    },
    {
      "cell_type": "code",
      "source": [
        "!unzip data.zip"
      ],
      "metadata": {
        "colab": {
          "base_uri": "https://localhost:8080/"
        },
        "id": "OdpAJ0ke0ZlY",
        "outputId": "f8b70f23-996c-422b-d0a4-e2cf02836f43"
      },
      "execution_count": 11,
      "outputs": [
        {
          "output_type": "stream",
          "name": "stdout",
          "text": [
            "Archive:  data.zip\n",
            "replace mnist_train.csv? [y]es, [n]o, [A]ll, [N]one, [r]ename: n\n"
          ]
        }
      ]
    },
    {
      "cell_type": "code",
      "source": [
        "def load_data(file_path):\n",
        "    x_data = []\n",
        "    y_data = []\n",
        "\n",
        "    with open(file_path, 'r') as file:\n",
        "        next(file)\n",
        "        for line in file:\n",
        "            values = line.strip().split(',')\n",
        "            label = float(values[0])\n",
        "            image = [float(val) / 255.0 for val in values[1:]]\n",
        "            y_data.append(label)\n",
        "            x_data.append(image)\n",
        "    x = np.array(x_data)\n",
        "    y = np.array(y_data)\n",
        "    return x, y"
      ],
      "metadata": {
        "id": "B3QGAjdRz2RY"
      },
      "execution_count": 12,
      "outputs": []
    },
    {
      "cell_type": "code",
      "source": [
        "X,Y = load_data('/content/mnist_train.csv')\n",
        "print(\"X shape:\", X.shape)\n",
        "print(\"y shape:\", Y.shape)"
      ],
      "metadata": {
        "id": "4URpbizgzwfS",
        "colab": {
          "base_uri": "https://localhost:8080/"
        },
        "outputId": "73b0f564-a4fa-4a9d-d75b-f60b4575a1e6"
      },
      "execution_count": 13,
      "outputs": [
        {
          "output_type": "stream",
          "name": "stdout",
          "text": [
            "X shape: (60000, 784)\n",
            "y shape: (60000,)\n"
          ]
        }
      ]
    },
    {
      "cell_type": "code",
      "source": [
        "i=np.random.randint(1,60000)\n",
        "plt.imshow(X[i].reshape(28,28))\n",
        "print(f\"The number is {int(Y[i])}\")"
      ],
      "metadata": {
        "id": "mrmoiXmi0Gw4",
        "colab": {
          "base_uri": "https://localhost:8080/",
          "height": 448
        },
        "outputId": "c97faa39-8ace-452b-b286-0f68522fff9c"
      },
      "execution_count": 14,
      "outputs": [
        {
          "output_type": "stream",
          "name": "stdout",
          "text": [
            "The number is 0\n"
          ]
        },
        {
          "output_type": "display_data",
          "data": {
            "text/plain": [
              "<Figure size 640x480 with 1 Axes>"
            ],
            "image/png": "[encoded data removed]"
          },
          "metadata": {}
        }
      ]
    },
    {
      "cell_type": "code",
      "source": [
        "x_train,x_test,y_train,y_test=train_test_split(X,Y,test_size=0.2)"
      ],
      "metadata": {
        "id": "9XT7meeU3FyM"
      },
      "execution_count": 15,
      "outputs": []
    },
    {
      "cell_type": "code",
      "source": [
        "def softmax(x):\n",
        "    exp_scores = np.exp(x - np.max(x, axis=1, keepdims=True))\n",
        "    return exp_scores / np.sum(exp_scores, axis=1, keepdims=True)\n",
        "\n",
        "def initialize_parameters(input_size, output_size):\n",
        "    W = np.random.randn(input_size, output_size) / np.sqrt(input_size)\n",
        "    b = np.zeros((1, output_size))\n",
        "    return W, b\n",
        "\n",
        "def forward_pass(X, W, b):\n",
        "    Z = np.dot(X, W) + b\n",
        "    return Z, softmax(Z)\n",
        "\n",
        "def backward_pass(X, y, Z, A, W, b, learning_rate):\n",
        "    m = X.shape[0]\n",
        "\n",
        "    dZ = A - y\n",
        "    dW = np.dot(X.T, dZ) / m\n",
        "    db = np.sum(dZ, axis=0, keepdims=True) / m\n",
        "\n",
        "    W -= learning_rate * dW\n",
        "    b -= learning_rate * db\n",
        "\n",
        "    return W, b\n",
        "\n",
        "def train_model(X, y, num_classes, learning_rate, epochs):\n",
        "    input_size = X.shape[1]\n",
        "    W, b = initialize_parameters(input_size, num_classes)\n",
        "\n",
        "    for epoch in range(epochs):\n",
        "        Z, A = forward_pass(X, W, b)\n",
        "        W, b = backward_pass(X, y, Z, A, W, b, learning_rate)\n",
        "\n",
        "        if epoch % 50 == 0:\n",
        "            loss = -np.mean(np.log(A[np.arange(len(y)), np.argmax(y, axis=1)]))\n",
        "            print(f'Epoch {epoch}, Loss: {loss}')\n",
        "\n",
        "    return W, b"
      ],
      "metadata": {
        "id": "B4Ftn5IC2foE"
      },
      "execution_count": 16,
      "outputs": []
    },
    {
      "cell_type": "markdown",
      "source": [
        "One-hot encoding"
      ],
      "metadata": {
        "id": "FCDi9UOu3oRE"
      }
    },
    {
      "cell_type": "code",
      "source": [
        "y_train = y_train.astype(np.int64)\n",
        "y_train_one_hot = np.zeros((y_train.size, 10))\n",
        "y_train_one_hot[np.arange(y_train.size), y_train] = 1\n",
        "y_test = y_test.astype(np.int64)\n",
        "y_one_hot_1 = np.zeros((y_test.size, 10))\n",
        "y_one_hot_1[np.arange(y_test.size), y_test] = 1"
      ],
      "metadata": {
        "id": "G6QyyocE26mJ"
      },
      "execution_count": 18,
      "outputs": []
    },
    {
      "cell_type": "code",
      "source": [
        "learning_rate = 0.01\n",
        "epochs = 250\n",
        "num_classes = 10\n",
        "\n",
        "# Train the model\n",
        "W, b = train_model(x_train, y_train_one_hot, num_classes, learning_rate, epochs)"
      ],
      "metadata": {
        "colab": {
          "base_uri": "https://localhost:8080/"
        },
        "id": "maQU4AOd3ebf",
        "outputId": "dc384ccf-dfad-48f2-d995-75bdfbf53114"
      },
      "execution_count": 19,
      "outputs": [
        {
          "output_type": "stream",
          "name": "stdout",
          "text": [
            "Epoch 0, Loss: 2.388585262990262\n",
            "Epoch 50, Loss: 1.9019338956738872\n",
            "Epoch 100, Loss: 1.5845698701153303\n",
            "Epoch 150, Loss: 1.3644595539751672\n",
            "Epoch 200, Loss: 1.2084884852209337\n"
          ]
        }
      ]
    },
    {
      "cell_type": "code",
      "source": [
        "def predict(X, W, b):\n",
        "    _, A = forward_pass(X, W, b)\n",
        "    return np.argmax(A, axis=1)\n",
        "\n",
        "def accuracy(y_true, y_pred):\n",
        "    return np.mean(y_true == y_pred)\n",
        "\n",
        "y_pred = predict(x_test, W, b)\n",
        "y_true = np.argmax(y_one_hot_1, axis=1)\n",
        "acc = accuracy(y_true, y_pred)\n",
        "print(\"Accuracy:\", acc)"
      ],
      "metadata": {
        "colab": {
          "base_uri": "https://localhost:8080/"
        },
        "id": "Um7GtrkL3Sb7",
        "outputId": "316dcb96-d4f8-413e-a18f-70208b14348f"
      },
      "execution_count": 20,
      "outputs": [
        {
          "output_type": "stream",
          "name": "stdout",
          "text": [
            "Accuracy: 0.801\n"
          ]
        }
      ]
    },
    {
      "cell_type": "code",
      "source": [
        "i=np.random.randint(1,12000)\n",
        "print(predict(x_test[i],W,b))\n",
        "plt.imshow(x_test[i].reshape(28,28))"
      ],
      "metadata": {
        "id": "_PQWA8Dt9dM3",
        "outputId": "053bd43d-1251-43b3-a62f-eb2c7fb89541",
        "colab": {
          "base_uri": "https://localhost:8080/",
          "height": 466
        }
      },
      "execution_count": 42,
      "outputs": [
        {
          "output_type": "stream",
          "name": "stdout",
          "text": [
            "[3]\n"
          ]
        },
        {
          "output_type": "execute_result",
          "data": {
            "text/plain": [
              "<matplotlib.image.AxesImage at 0x7a998ef1e2f0>"
            ]
          },
          "metadata": {},
          "execution_count": 42
        },
        {
          "output_type": "display_data",
          "data": {
            "text/plain": [
              "<Figure size 640x480 with 1 Axes>"
            ],
            "image/png": "[encoded data removed]"
          },
          "metadata": {}
        }
      ]
    },
    {
      "cell_type": "code",
      "source": [],
      "metadata": {
        "id": "smMtcg60AXWH"
      },
      "execution_count": null,
      "outputs": []
    }
  ]
}