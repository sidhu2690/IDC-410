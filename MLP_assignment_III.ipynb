{
  "nbformat": 4,
  "nbformat_minor": 0,
  "metadata": {
    "colab": {
      "provenance": [],
      "authorship_tag": "ABX9TyOssXHFurYbLTgiuPWlzdWZ",
      "include_colab_link": true
    },
    "kernelspec": {
      "name": "python3",
      "display_name": "Python 3"
    },
    "language_info": {
      "name": "python"
    }
  },
  "cells": [
    {
      "cell_type": "markdown",
      "metadata": {
        "id": "view-in-github",
        "colab_type": "text"
      },
      "source": [
        "<a href=\"https://colab.research.google.com/github/sidhu2690/IDC-410/blob/main/MLP_assignment_III.ipynb\" target=\"_parent\"><img src=\"https://colab.research.google.com/assets/colab-badge.svg\" alt=\"Open In Colab\"/></a>"
      ]
    },
    {
      "cell_type": "code",
      "execution_count": null,
      "metadata": {
        "id": "VKzsmpymzrGN"
      },
      "outputs": [],
      "source": [
        "import numpy as np\n",
        "import matplotlib.pyplot as plt\n",
        "from sklearn.model_selection import train_test_split"
      ]
    },
    {
      "cell_type": "code",
      "source": [
        "!unzip data.zip"
      ],
      "metadata": {
        "colab": {
          "base_uri": "https://localhost:8080/"
        },
        "id": "OdpAJ0ke0ZlY",
        "outputId": "25d16a51-0741-4b44-ce47-7e40c4c7b529"
      },
      "execution_count": null,
      "outputs": [
        {
          "output_type": "stream",
          "name": "stdout",
          "text": [
            "Archive:  data.zip\n",
            "replace mnist_train.csv? [y]es, [n]o, [A]ll, [N]one, [r]ename: n\n"
          ]
        }
      ]
    },
    {
      "cell_type": "code",
      "source": [
        "def load_data(file_path):\n",
        "    x_data = []\n",
        "    y_data = []\n",
        "\n",
        "    with open(file_path, 'r') as file:\n",
        "        next(file)\n",
        "        for line in file:\n",
        "            values = line.strip().split(',')\n",
        "            label = float(values[0])\n",
        "            image = [float(val) / 255.0 for val in values[1:]]\n",
        "            y_data.append(label)\n",
        "            x_data.append(image)\n",
        "    x = np.array(x_data)\n",
        "    y = np.array(y_data)\n",
        "    return x, y"
      ],
      "metadata": {
        "id": "B3QGAjdRz2RY"
      },
      "execution_count": null,
      "outputs": []
    },
    {
      "cell_type": "code",
      "source": [
        "X,Y = load_data('/content/mnist_train.csv')\n",
        "print(\"X shape:\", X.shape)\n",
        "print(\"y shape:\", Y.shape)"
      ],
      "metadata": {
        "id": "4URpbizgzwfS",
        "colab": {
          "base_uri": "https://localhost:8080/"
        },
        "outputId": "e3d7bb51-0456-4643-cd6f-3030c6763e51"
      },
      "execution_count": null,
      "outputs": [
        {
          "output_type": "stream",
          "name": "stdout",
          "text": [
            "X shape: (60000, 784)\n",
            "y shape: (60000,)\n"
          ]
        }
      ]
    },
    {
      "cell_type": "code",
      "source": [
        "i=np.random.randint(1,60000)\n",
        "plt.imshow(X[i].reshape(28,28))\n",
        "print(f\"The number is {int(Y[i])}\")"
      ],
      "metadata": {
        "id": "mrmoiXmi0Gw4",
        "colab": {
          "base_uri": "https://localhost:8080/",
          "height": 448
        },
        "outputId": "55d5a1ba-d7c5-4298-db4e-fe00764ac864"
      },
      "execution_count": null,
      "outputs": [
        {
          "output_type": "stream",
          "name": "stdout",
          "text": [
            "The number is 0\n"
          ]
        },
        {
          "output_type": "display_data",
          "data": {
            "text/plain": [
              "<Figure size 640x480 with 1 Axes>"
            ],
            "image/png": "[encoded data removed]"
          },
          "metadata": {}
        }
      ]
    },
    {
      "cell_type": "code",
      "source": [
        "x_train,x_test,y_train,y_test=train_test_split(X,Y,test_size=0.1)"
      ],
      "metadata": {
        "id": "9XT7meeU3FyM"
      },
      "execution_count": null,
      "outputs": []
    },
    {
      "cell_type": "code",
      "source": [
        "def softmax(x):\n",
        "    exp_scores = np.exp(x - np.max(x, axis=1, keepdims=True))\n",
        "    return exp_scores / np.sum(exp_scores, axis=1, keepdims=True)\n",
        "\n",
        "def initialize_parameters(input_size, output_size):\n",
        "    W = np.random.randn(input_size, output_size) / np.sqrt(input_size)\n",
        "    b = np.zeros((1, output_size))\n",
        "    return W, b\n",
        "\n",
        "def forward_pass(X, W, b):\n",
        "    Z = np.dot(X, W) + b\n",
        "    return Z, softmax(Z)\n",
        "\n",
        "def backward_pass(X, y, Z, A, W, b, learning_rate):\n",
        "    m = X.shape[0]\n",
        "\n",
        "    dZ = A - y\n",
        "    dW = np.dot(X.T, dZ) / m\n",
        "    db = np.sum(dZ, axis=0, keepdims=True) / m\n",
        "\n",
        "    W -= learning_rate * dW\n",
        "    b -= learning_rate * db\n",
        "\n",
        "    return W, b\n",
        "\n",
        "def train_model(X, y, num_classes, learning_rate, epochs):\n",
        "    input_size = X.shape[1]\n",
        "    W, b = initialize_parameters(input_size, num_classes)\n",
        "\n",
        "    for epoch in range(epochs):\n",
        "        Z, A = forward_pass(X, W, b)\n",
        "        W, b = backward_pass(X, y, Z, A, W, b, learning_rate)\n",
        "\n",
        "        if epoch % 50 == 0:\n",
        "            loss = -np.mean(np.log(A[np.arange(len(y)), np.argmax(y, axis=1)]))\n",
        "            print(f'Epoch {epoch}, Loss: {loss}')\n",
        "\n",
        "    return W, b"
      ],
      "metadata": {
        "id": "B4Ftn5IC2foE"
      },
      "execution_count": null,
      "outputs": []
    },
    {
      "cell_type": "markdown",
      "source": [
        "One-hot encoding"
      ],
      "metadata": {
        "id": "FCDi9UOu3oRE"
      }
    },
    {
      "cell_type": "code",
      "source": [
        "y_train = y_train.astype(np.int64)\n",
        "y_train_one_hot = np.zeros((y_train.size, 10))\n",
        "y_train_one_hot[np.arange(y_train.size), y_train] = 1\n",
        "y_test = y_test.astype(np.int64)\n",
        "y_one_hot_1 = np.zeros((y_test.size, 10))\n",
        "y_one_hot_1[np.arange(y_test.size), y_test] = 1"
      ],
      "metadata": {
        "id": "G6QyyocE26mJ"
      },
      "execution_count": null,
      "outputs": []
    },
    {
      "cell_type": "code",
      "source": [
        "learning_rate = 0.001\n",
        "epochs = 250\n",
        "num_classes = 10\n",
        "\n",
        "# Train the model\n",
        "W, b = train_model(x_train, y_train_one_hot, num_classes, learning_rate, epochs)"
      ],
      "metadata": {
        "colab": {
          "base_uri": "https://localhost:8080/"
        },
        "id": "maQU4AOd3ebf",
        "outputId": "ae5a7767-b900-4799-a280-a3f00722d69c"
      },
      "execution_count": null,
      "outputs": [
        {
          "output_type": "stream",
          "name": "stdout",
          "text": [
            "Epoch 0, Loss: 2.325209765387293\n",
            "Epoch 50, Loss: 1.8600461516365303\n",
            "Epoch 100, Loss: 1.5609887469215382\n",
            "Epoch 150, Loss: 1.3517451656164472\n",
            "Epoch 200, Loss: 1.2020076437757354\n"
          ]
        }
      ]
    },
    {
      "cell_type": "code",
      "source": [
        "def predict(X, W, b):\n",
        "    _, A = forward_pass(X, W, b)\n",
        "    return np.argmax(A, axis=1)\n",
        "\n",
        "def accuracy(y_true, y_pred):\n",
        "    return np.mean(y_true == y_pred)\n",
        "\n",
        "y_pred = predict(x_test, W, b)\n",
        "y_true = np.argmax(y_one_hot_1, axis=1)\n",
        "acc = accuracy(y_true, y_pred)\n",
        "print(\"Accuracy:\", acc*100)"
      ],
      "metadata": {
        "colab": {
          "base_uri": "https://localhost:8080/"
        },
        "id": "Um7GtrkL3Sb7",
        "outputId": "1c629cde-191a-4979-d1a4-6a87160a53e2"
      },
      "execution_count": null,
      "outputs": [
        {
          "output_type": "stream",
          "name": "stdout",
          "text": [
            "Accuracy: 80.325\n"
          ]
        }
      ]
    },
    {
      "cell_type": "code",
      "source": [
        "i=np.random.randint(1,12000)\n",
        "print(f\"predicted number\",predict(x_test[i],W,b))\n",
        "plt.imshow(x_test[i].reshape(28,28))"
      ],
      "metadata": {
        "id": "_PQWA8Dt9dM3",
        "outputId": "03ba5499-c7ae-4e6d-d720-1e4bcc6c70e3",
        "colab": {
          "base_uri": "https://localhost:8080/",
          "height": 466
        }
      },
      "execution_count": null,
      "outputs": [
        {
          "output_type": "stream",
          "name": "stdout",
          "text": [
            "predicted number [2]\n"
          ]
        },
        {
          "output_type": "execute_result",
          "data": {
            "text/plain": [
              "<matplotlib.image.AxesImage at 0x7e8df54265c0>"
            ]
          },
          "metadata": {},
          "execution_count": 92
        },
        {
          "output_type": "display_data",
          "data": {
            "text/plain": [
              "<Figure size 640x480 with 1 Axes>"
            ],
            "image/png": "[encoded data removed]"
          },
          "metadata": {}
        }
      ]
    },
    {
      "cell_type": "markdown",
      "source": [
        "3"
      ],
      "metadata": {
        "id": "QYdSPAKK62OW"
      }
    },
    {
      "cell_type": "code",
      "source": [
        "def sigmoid(x):\n",
        "    return 1 / (1 + np.exp(-x))\n",
        "\n",
        "def softmax(x):\n",
        "    exp_scores = np.exp(x - np.max(x, axis=1, keepdims=True))\n",
        "    return exp_scores / np.sum(exp_scores, axis=1, keepdims=True)\n",
        "\n",
        "def initialize_parameters(input_size, hidden_size, output_size):\n",
        "    W1 = np.random.randn(input_size, hidden_size) / np.sqrt(input_size)\n",
        "    b1 = np.zeros((1, hidden_size))\n",
        "    W2 = np.random.randn(hidden_size, output_size) / np.sqrt(hidden_size)\n",
        "    b2 = np.zeros((1, output_size))\n",
        "    return W1, b1, W2, b2\n",
        "\n",
        "def forward_pass(X, W1, b1, W2, b2):\n",
        "    Z1 = np.dot(X, W1) + b1\n",
        "    A1 = sigmoid(Z1)       #sigmoid activation\n",
        "    Z2 = np.dot(A1, W2) + b2\n",
        "    A2 = softmax(Z2)\n",
        "    return Z1, A1, Z2, A2\n",
        "\n",
        "def backward_pass(X, y, Z1, A1, Z2, A2, W1, b1, W2, b2, learning_rate):\n",
        "    m = X.shape[0]\n",
        "\n",
        "    dZ2 = A2 - y\n",
        "    dW2 = np.dot(A1.T, dZ2) / m\n",
        "    db2 = np.sum(dZ2, axis=0, keepdims=True) / m\n",
        "\n",
        "    dA1 = np.dot(dZ2, W2.T)\n",
        "    dZ1 = dA1 * (A1 * (1 - A1))\n",
        "    dW1 = np.dot(X.T, dZ1) / m\n",
        "    db1 = np.sum(dZ1, axis=0, keepdims=True) / m\n",
        "\n",
        "    W1 -= learning_rate * dW1\n",
        "    b1 -= learning_rate * db1\n",
        "    W2 -= learning_rate * dW2\n",
        "    b2 -= learning_rate * db2\n",
        "\n",
        "    return W1, b1, W2, b2\n",
        "\n",
        "def calculate_accuracy(y_true, y_pred):\n",
        "    correct_predictions = np.sum(np.argmax(y_true, axis=1) == np.argmax(y_pred, axis=1))\n",
        "    total_samples = y_true.shape[0]\n",
        "    accuracy = correct_predictions / total_samples\n",
        "    return accuracy\n",
        "\n",
        "def train_model(X, y, hidden_size, num_classes, learning_rate, epochs):\n",
        "    input_size = X.shape[1]\n",
        "    W1, b1, W2, b2 = initialize_parameters(input_size, hidden_size, num_classes)\n",
        "\n",
        "    for epoch in range(epochs):\n",
        "        Z1, A1, Z2, A2 = forward_pass(X, W1, b1, W2, b2)\n",
        "        W1, b1, W2, b2 = backward_pass(X, y, Z1, A1, Z2, A2, W1, b1, W2, b2, learning_rate)\n",
        "\n",
        "        if epoch % 10 == 0:\n",
        "            loss = -np.mean(np.log(A2[np.arange(len(y)), np.argmax(y, axis=1)]))\n",
        "            accuracy = calculate_accuracy(y, A2)\n",
        "            print(f'Epoch {epoch}, Loss: {loss}, Accuracy: {accuracy}')\n",
        "\n",
        "    return W1, b1, W2, b2\n",
        "\n",
        "\n",
        "hidden_size = 10\n",
        "num_classes = 10\n",
        "learning_rate = 0.001\n",
        "epochs = 100\n",
        "trained_parameters = train_model(x_train, y_train_one_hot, hidden_size, num_classes, learning_rate, epochs)"
      ],
      "metadata": {
        "id": "smMtcg60AXWH",
        "outputId": "10f0eb22-62ea-4c51-a1dc-7e28cfa208d9",
        "colab": {
          "base_uri": "https://localhost:8080/"
        }
      },
      "execution_count": null,
      "outputs": [
        {
          "output_type": "stream",
          "name": "stdout",
          "text": [
            "Epoch 0, Loss: 2.3954378623965042, Accuracy: 0.08402083333333334\n",
            "Epoch 10, Loss: 2.2162501531174508, Accuracy: 0.21095833333333333\n",
            "Epoch 20, Loss: 2.129585304954302, Accuracy: 0.3697916666666667\n",
            "Epoch 30, Loss: 2.050401596886019, Accuracy: 0.43533333333333335\n",
            "Epoch 40, Loss: 1.9738065876188922, Accuracy: 0.48945833333333333\n",
            "Epoch 50, Loss: 1.8991502057834275, Accuracy: 0.53475\n",
            "Epoch 60, Loss: 1.8262189933222528, Accuracy: 0.5710416666666667\n",
            "Epoch 70, Loss: 1.7552097471115369, Accuracy: 0.5993958333333333\n",
            "Epoch 80, Loss: 1.6865645709135284, Accuracy: 0.6246041666666666\n",
            "Epoch 90, Loss: 1.6207314907822847, Accuracy: 0.6463958333333333\n"
          ]
        }
      ]
    },
    {
      "cell_type": "code",
      "source": [
        "import numpy as np\n",
        "\n",
        "def sigmoid(x):\n",
        "    return 1 / (1 + np.exp(-x))\n",
        "\n",
        "def softmax(x):\n",
        "    exp_scores = np.exp(x - np.max(x, axis=1, keepdims=True))\n",
        "    return exp_scores / np.sum(exp_scores, axis=1, keepdims=True)\n",
        "\n",
        "def initialize_parameters(input_size, hidden_size1, hidden_size2, output_size):\n",
        "    W1 = np.random.randn(input_size, hidden_size1) / np.sqrt(input_size)\n",
        "    b1 = np.zeros((1, hidden_size1))\n",
        "    W2 = np.random.randn(hidden_size1, hidden_size2) / np.sqrt(hidden_size1)\n",
        "    b2 = np.zeros((1, hidden_size2))\n",
        "    W3 = np.random.randn(hidden_size2, output_size) / np.sqrt(hidden_size2)\n",
        "    b3 = np.zeros((1, output_size))\n",
        "    return W1, b1, W2, b2, W3, b3\n",
        "\n",
        "def forward_pass(X, W1, b1, W2, b2, W3, b3):\n",
        "    Z1 = np.dot(X, W1) + b1\n",
        "    A1 = sigmoid(Z1)\n",
        "    Z2 = np.dot(A1, W2) + b2\n",
        "    A2 = sigmoid(Z2)\n",
        "    Z3 = np.dot(A2, W3) + b3\n",
        "    A3 = softmax(Z3)\n",
        "    return Z1, A1, Z2, A2, Z3, A3\n",
        "\n",
        "def backward_pass(X, y, Z1, A1, Z2, A2, Z3, A3, W1, b1, W2, b2, W3, b3, learning_rate):\n",
        "    m = X.shape[0]\n",
        "\n",
        "    dZ3 = A3 - y\n",
        "    dW3 = np.dot(A2.T, dZ3) / m\n",
        "    db3 = np.sum(dZ3, axis=0, keepdims=True) / m\n",
        "\n",
        "    dA2 = np.dot(dZ3, W3.T)\n",
        "    dZ2 = dA2 * (A2 * (1 - A2))\n",
        "    dW2 = np.dot(A1.T, dZ2) / m\n",
        "    db2 = np.sum(dZ2, axis=0, keepdims=True) / m\n",
        "\n",
        "    dA1 = np.dot(dZ2, W2.T)\n",
        "    dZ1 = dA1 * (A1 * (1 - A1))\n",
        "    dW1 = np.dot(X.T, dZ1) / m\n",
        "    db1 = np.sum(dZ1, axis=0, keepdims=True) / m\n",
        "\n",
        "    W1 -= learning_rate * dW1\n",
        "    b1 -= learning_rate * db1\n",
        "    W2 -= learning_rate * dW2\n",
        "    b2 -= learning_rate * db2\n",
        "    W3 -= learning_rate * dW3\n",
        "    b3 -= learning_rate * db3\n",
        "\n",
        "    return W1, b1, W2, b2, W3, b3\n",
        "\n",
        "def calculate_accuracy(y_true, y_pred):\n",
        "    correct_predictions = np.sum(np.argmax(y_true, axis=1) == np.argmax(y_pred, axis=1))\n",
        "    total_samples = y_true.shape[0]\n",
        "    accuracy = correct_predictions / total_samples\n",
        "    return accuracy\n",
        "\n",
        "def train_model(X, y, hidden_size1, hidden_size2, num_classes, learning_rate, epochs):\n",
        "    input_size = X.shape[1]\n",
        "    W1, b1, W2, b2, W3, b3 = initialize_parameters(input_size, hidden_size1, hidden_size2, num_classes)\n",
        "\n",
        "    for epoch in range(epochs):\n",
        "        Z1, A1, Z2, A2, Z3, A3 = forward_pass(X, W1, b1, W2, b2, W3, b3)\n",
        "        W1, b1, W2, b2, W3, b3 = backward_pass(X, y, Z1, A1, Z2, A2, Z3, A3, W1, b1, W2, b2, W3, b3, learning_rate)\n",
        "\n",
        "        if epoch % 10 == 0:\n",
        "            loss = -np.mean(np.log(A3[np.arange(len(y)), np.argmax(y, axis=1)]))\n",
        "            accuracy = calculate_accuracy(y, A3)\n",
        "            print(f'Epoch {epoch}, Loss: {loss}, Accuracy: {accuracy}')\n",
        "\n",
        "    return W1, b1, W2, b2, W3, b3\n",
        "\n",
        "hidden_size1 = 10\n",
        "hidden_size2 = 10\n",
        "num_classes = 10\n",
        "learning_rate = 0.001\n",
        "epochs = 100\n",
        "trained_parameters = train_model(x_train, y_train_one_hot, hidden_size1, hidden_size2, num_classes, learning_rate, epochs)\n"
      ],
      "metadata": {
        "id": "46sWSt1j-hSx",
        "outputId": "e254e423-5bd7-40f4-f723-743e40c09ec2",
        "colab": {
          "base_uri": "https://localhost:8080/"
        }
      },
      "execution_count": null,
      "outputs": [
        {
          "output_type": "stream",
          "name": "stdout",
          "text": [
            "Epoch 0, Loss: 2.4447408933519603, Accuracy: 0.09045833333333334\n",
            "Epoch 10, Loss: 2.3019210186183474, Accuracy: 0.1455\n",
            "Epoch 20, Loss: 2.28233735194819, Accuracy: 0.12633333333333333\n",
            "Epoch 30, Loss: 2.271423046123819, Accuracy: 0.16110416666666666\n",
            "Epoch 40, Loss: 2.260333745352481, Accuracy: 0.22995833333333332\n",
            "Epoch 50, Loss: 2.2478737279791146, Accuracy: 0.2992708333333333\n",
            "Epoch 60, Loss: 2.2336158149919196, Accuracy: 0.36052083333333335\n",
            "Epoch 70, Loss: 2.217205314509312, Accuracy: 0.40475\n",
            "Epoch 80, Loss: 2.198273503894581, Accuracy: 0.4289375\n",
            "Epoch 90, Loss: 2.17644363916371, Accuracy: 0.4415\n"
          ]
        }
      ]
    },
    {
      "cell_type": "markdown",
      "source": [
        "### 1 Hidden layer with ReLu"
      ],
      "metadata": {
        "id": "IJp9EZLR92_E"
      }
    },
    {
      "cell_type": "code",
      "source": [
        "def relu(x):\n",
        "    return np.maximum(0, x)\n",
        "\n",
        "def softmax(x):\n",
        "    exp_scores = np.exp(x - np.max(x, axis=1, keepdims=True))\n",
        "    return exp_scores / np.sum(exp_scores, axis=1, keepdims=True)\n",
        "\n",
        "def initialize_parameters(input_size, hidden_size, output_size):\n",
        "    W1 = np.random.randn(input_size, hidden_size) / np.sqrt(input_size)\n",
        "    b1 = np.zeros((1, hidden_size))\n",
        "    W2 = np.random.randn(hidden_size, output_size) / np.sqrt(hidden_size)\n",
        "    b2 = np.zeros((1, output_size))\n",
        "    return W1, b1, W2, b2\n",
        "\n",
        "def forward_pass(X, W1, b1, W2, b2):\n",
        "    Z1 = np.dot(X, W1) + b1\n",
        "    A1 = relu(Z1)\n",
        "    Z2 = np.dot(A1, W2) + b2\n",
        "    A2 = softmax(Z2)\n",
        "    return Z1, A1, Z2, A2\n",
        "\n",
        "def backward_pass(X, y, Z1, A1, Z2, A2, W1, b1, W2, b2, learning_rate):\n",
        "    m = X.shape[0]\n",
        "\n",
        "    dZ2 = A2 - y\n",
        "    dW2 = np.dot(A1.T, dZ2) / m\n",
        "    db2 = np.sum(dZ2, axis=0, keepdims=True) / m\n",
        "\n",
        "    dA1 = np.dot(dZ2, W2.T)\n",
        "    dZ1 = dA1 * (Z1 > 0)\n",
        "    dW1 = np.dot(X.T, dZ1) / m\n",
        "    db1 = np.sum(dZ1, axis=0, keepdims=True) / m\n",
        "\n",
        "    W1 -= learning_rate * dW1\n",
        "    b1 -= learning_rate * db1\n",
        "    W2 -= learning_rate * dW2\n",
        "    b2 -= learning_rate * db2\n",
        "\n",
        "    return W1, b1, W2, b2\n",
        "\n",
        "def calculate_accuracy(y_true, y_pred):\n",
        "    correct_predictions = np.sum(np.argmax(y_true, axis=1) == np.argmax(y_pred, axis=1))\n",
        "    total_samples = y_true.shape[0]\n",
        "    accuracy = correct_predictions / total_samples\n",
        "    return accuracy\n",
        "\n",
        "def train_model(X, y, hidden_size, num_classes, learning_rate, epochs):\n",
        "    input_size = X.shape[1]\n",
        "    W1, b1, W2, b2 = initialize_parameters(input_size, hidden_size, num_classes)\n",
        "\n",
        "    for epoch in range(epochs):\n",
        "        Z1, A1, Z2, A2 = forward_pass(X, W1, b1, W2, b2)\n",
        "        W1, b1, W2, b2 = backward_pass(X, y, Z1, A1, Z2, A2, W1, b1, W2, b2, learning_rate)\n",
        "\n",
        "        if epoch % 10 == 0:\n",
        "            loss = -np.mean(np.log(A2[np.arange(len(y)), np.argmax(y, axis=1)]))\n",
        "            accuracy = calculate_accuracy(y, A2)\n",
        "            print(f'Epoch {epoch}, Loss: {loss}, Accuracy: {accuracy*100}')\n",
        "\n",
        "    return W1, b1, W2, b2\n",
        "\n",
        "\n",
        "hidden_size = 10\n",
        "num_classes = 10\n",
        "learning_rate = 0.001\n",
        "epochs = 200\n",
        "trained_parameters = train_model(x_train, y_train_one_hot, hidden_size, num_classes, learning_rate, epochs)\n"
      ],
      "metadata": {
        "id": "hn-_TQC86OEh",
        "outputId": "4ddb678f-ee3f-4cb3-8065-15e48e589353",
        "colab": {
          "base_uri": "https://localhost:8080/"
        }
      },
      "execution_count": null,
      "outputs": [
        {
          "output_type": "stream",
          "name": "stdout",
          "text": [
            "Epoch 0, Loss: 2.310338137763086, Accuracy: 7.88125\n",
            "Epoch 10, Loss: 1.947530267387898, Accuracy: 38.514583333333334\n",
            "Epoch 20, Loss: 1.5908829820590873, Accuracy: 52.43333333333333\n",
            "Epoch 30, Loss: 1.3154980462562567, Accuracy: 63.5\n",
            "Epoch 40, Loss: 1.109542023659461, Accuracy: 72.78958333333333\n",
            "Epoch 50, Loss: 0.9556980844574191, Accuracy: 77.25208333333333\n",
            "Epoch 60, Loss: 0.8412411728273637, Accuracy: 79.54791666666667\n",
            "Epoch 70, Loss: 0.7577206846012914, Accuracy: 81.26875\n",
            "Epoch 80, Loss: 0.6955566260823677, Accuracy: 82.51041666666666\n",
            "Epoch 90, Loss: 0.6478550874518055, Accuracy: 83.55416666666666\n",
            "Epoch 100, Loss: 0.6101884864418082, Accuracy: 84.35000000000001\n",
            "Epoch 110, Loss: 0.5796813823143224, Accuracy: 84.98333333333333\n",
            "Epoch 120, Loss: 0.5544433036093293, Accuracy: 85.53333333333333\n",
            "Epoch 130, Loss: 0.5331846892343701, Accuracy: 85.96041666666666\n",
            "Epoch 140, Loss: 0.5150265969082579, Accuracy: 86.33541666666666\n",
            "Epoch 150, Loss: 0.49931494431882373, Accuracy: 86.69583333333334\n",
            "Epoch 160, Loss: 0.485577575249812, Accuracy: 87.04375\n",
            "Epoch 170, Loss: 0.4734448899521007, Accuracy: 87.37291666666667\n",
            "Epoch 180, Loss: 0.46262998546000356, Accuracy: 87.60208333333334\n",
            "Epoch 190, Loss: 0.4529193616212346, Accuracy: 87.82083333333334\n"
          ]
        }
      ]
    },
    {
      "cell_type": "markdown",
      "source": [
        "### 2 Hidden layer with ReLu"
      ],
      "metadata": {
        "id": "-yldY5Vm_v7A"
      }
    },
    {
      "cell_type": "code",
      "source": [
        "def relu(x):\n",
        "    return np.maximum(0, x)\n",
        "\n",
        "def softmax(x):\n",
        "    exp_scores = np.exp(x - np.max(x, axis=1, keepdims=True))\n",
        "    return exp_scores / np.sum(exp_scores, axis=1, keepdims=True)\n",
        "\n",
        "def initialize_parameters(input_size, hidden_size1, hidden_size2, output_size):\n",
        "    W1 = np.random.randn(input_size, hidden_size1) / np.sqrt(input_size)\n",
        "    b1 = np.zeros((1, hidden_size1))\n",
        "    W2 = np.random.randn(hidden_size1, hidden_size2) / np.sqrt(hidden_size1)\n",
        "    b2 = np.zeros((1, hidden_size2))\n",
        "    W3 = np.random.randn(hidden_size2, output_size) / np.sqrt(hidden_size2)\n",
        "    b3 = np.zeros((1, output_size))\n",
        "    return W1, b1, W2, b2, W3, b3\n",
        "\n",
        "def forward_pass(X, W1, b1, W2, b2, W3, b3):\n",
        "    Z1 = np.dot(X, W1) + b1\n",
        "    A1 = relu(Z1)\n",
        "    Z2 = np.dot(A1, W2) + b2\n",
        "    A2 = relu(Z2)\n",
        "    Z3 = np.dot(A2, W3) + b3\n",
        "    A3 = softmax(Z3)\n",
        "    return Z1, A1, Z2, A2, Z3, A3\n",
        "\n",
        "def backward_pass(X, y, Z1, A1, Z2, A2, Z3, A3, W1, b1, W2, b2, W3, b3, learning_rate):\n",
        "    m = X.shape[0]\n",
        "\n",
        "    dZ3 = A3 - y\n",
        "    dW3 = np.dot(A2.T, dZ3) / m\n",
        "    db3 = np.sum(dZ3, axis=0, keepdims=True) / m\n",
        "\n",
        "    dA2 = np.dot(dZ3, W3.T)\n",
        "    dZ2 = dA2 * (Z2 > 0)\n",
        "    dW2 = np.dot(A1.T, dZ2) / m\n",
        "    db2 = np.sum(dZ2, axis=0, keepdims=True) / m\n",
        "\n",
        "    dA1 = np.dot(dZ2, W2.T)\n",
        "    dZ1 = dA1 * (Z1 > 0)\n",
        "    dW1 = np.dot(X.T, dZ1) / m\n",
        "    db1 = np.sum(dZ1, axis=0, keepdims=True) / m\n",
        "\n",
        "    W1 -= learning_rate * dW1\n",
        "    b1 -= learning_rate * db1\n",
        "    W2 -= learning_rate * dW2\n",
        "    b2 -= learning_rate * db2\n",
        "    W3 -= learning_rate * dW3\n",
        "    b3 -= learning_rate * db3\n",
        "\n",
        "    return W1, b1, W2, b2, W3, b3\n",
        "\n",
        "def calculate_accuracy(y_true, y_pred):\n",
        "    correct_predictions = np.sum(np.argmax(y_true, axis=1) == np.argmax(y_pred, axis=1))\n",
        "    total_samples = y_true.shape[0]\n",
        "    accuracy = correct_predictions / total_samples\n",
        "    return accuracy\n",
        "\n",
        "def train_model(X, y, hidden_size1, hidden_size2, num_classes, learning_rate, epochs):\n",
        "    input_size = X.shape[1]\n",
        "    W1, b1, W2, b2, W3, b3 = initialize_parameters(input_size, hidden_size1, hidden_size2, num_classes)\n",
        "\n",
        "    for epoch in range(epochs):\n",
        "        Z1, A1, Z2, A2, Z3, A3 = forward_pass(X, W1, b1, W2, b2, W3, b3)\n",
        "        W1, b1, W2, b2, W3, b3 = backward_pass(X, y, Z1, A1, Z2, A2, Z3, A3, W1, b1, W2, b2, W3, b3, learning_rate)\n",
        "\n",
        "        if epoch % 10 == 0:\n",
        "            loss = -np.mean(np.log(A3[np.arange(len(y)), np.argmax(y, axis=1)]))\n",
        "            accuracy = calculate_accuracy(y, A3)\n",
        "            print(f'Epoch {epoch}, Loss: {loss}, Accuracy: {accuracy*100}')\n",
        "\n",
        "    return W1, b1, W2, b2, W3, b3\n",
        "\n",
        "hidden_size1 = 10\n",
        "hidden_size2 = 10\n",
        "num_classes = 10\n",
        "learning_rate = 0.001\n",
        "epochs = 200\n",
        "\n",
        "trained_parameters = train_model(x_train, y_train_one_hot, hidden_size1, hidden_size2, num_classes, learning_rate, epochs)\n"
      ],
      "metadata": {
        "id": "Pdm6sIck7oZV",
        "outputId": "916da128-80f3-4504-bbdc-dc3923fbad1d",
        "colab": {
          "base_uri": "https://localhost:8080/"
        }
      },
      "execution_count": null,
      "outputs": [
        {
          "output_type": "stream",
          "name": "stdout",
          "text": [
            "Epoch 0, Loss: 2.381043203225201, Accuracy: 10.172916666666666\n",
            "Epoch 10, Loss: 2.1670522147433906, Accuracy: 14.620833333333334\n",
            "Epoch 20, Loss: 2.0021441112649088, Accuracy: 21.7\n",
            "Epoch 30, Loss: 1.8465779712115598, Accuracy: 37.56666666666666\n",
            "Epoch 40, Loss: 1.663747959694357, Accuracy: 47.989583333333336\n",
            "Epoch 50, Loss: 1.452319581998155, Accuracy: 55.21458333333334\n",
            "Epoch 60, Loss: 1.2435914087487896, Accuracy: 62.02916666666667\n",
            "Epoch 70, Loss: 1.077550590885921, Accuracy: 68.3125\n",
            "Epoch 80, Loss: 0.9607229879989333, Accuracy: 71.28750000000001\n",
            "Epoch 90, Loss: 0.8783030003618892, Accuracy: 73.20625\n",
            "Epoch 100, Loss: 0.8171438895245101, Accuracy: 74.81666666666666\n",
            "Epoch 110, Loss: 0.7687012137310532, Accuracy: 76.27083333333333\n",
            "Epoch 120, Loss: 0.7284946387942346, Accuracy: 77.6625\n",
            "Epoch 130, Loss: 0.7088022085998301, Accuracy: 78.21249999999999\n",
            "Epoch 140, Loss: 0.79210319947216, Accuracy: 74.00625\n",
            "Epoch 150, Loss: 0.6417680648088961, Accuracy: 80.52916666666667\n",
            "Epoch 160, Loss: 0.6142319039628046, Accuracy: 81.68125\n",
            "Epoch 170, Loss: 0.5913962305736636, Accuracy: 82.53541666666668\n",
            "Epoch 180, Loss: 0.5711445758185738, Accuracy: 83.19375\n",
            "Epoch 190, Loss: 0.5530285975086725, Accuracy: 83.77916666666667\n"
          ]
        }
      ]
    },
    {
      "cell_type": "markdown",
      "source": [
        "#V\n",
        "#### gd with momentum"
      ],
      "metadata": {
        "id": "Z8-jOh2s_-yt"
      }
    },
    {
      "cell_type": "code",
      "source": [
        "import numpy as np\n",
        "\n",
        "def relu(x):\n",
        "    return np.maximum(0, x)\n",
        "\n",
        "def softmax(x):\n",
        "    exp_scores = np.exp(x - np.max(x, axis=1, keepdims=True))\n",
        "    return exp_scores / np.sum(exp_scores, axis=1, keepdims=True)\n",
        "\n",
        "def initialize_parameters(input_size, hidden_size1, hidden_size2, output_size):\n",
        "    W1 = np.random.randn(input_size, hidden_size1) / np.sqrt(input_size)\n",
        "    b1 = np.zeros((1, hidden_size1))\n",
        "    W2 = np.random.randn(hidden_size1, hidden_size2) / np.sqrt(hidden_size1)\n",
        "    b2 = np.zeros((1, hidden_size2))\n",
        "    W3 = np.random.randn(hidden_size2, output_size) / np.sqrt(hidden_size2)\n",
        "    b3 = np.zeros((1, output_size))\n",
        "    return W1, b1, W2, b2, W3, b3\n",
        "\n",
        "def forward_pass(X, W1, b1, W2, b2, W3, b3):\n",
        "    Z1 = np.dot(X, W1) + b1\n",
        "    A1 = relu(Z1)\n",
        "    Z2 = np.dot(A1, W2) + b2\n",
        "    A2 = relu(Z2)\n",
        "    Z3 = np.dot(A2, W3) + b3\n",
        "    A3 = softmax(Z3)\n",
        "    return Z1, A1, Z2, A2, Z3, A3\n",
        "\n",
        "def backward_pass(X, y, Z1, A1, Z2, A2, Z3, A3, W1, b1, W2, b2, W3, b3, learning_rate, momentum):\n",
        "    m = X.shape[0]\n",
        "\n",
        "    dZ3 = A3 - y\n",
        "    dW3 = np.dot(A2.T, dZ3) / m\n",
        "    db3 = np.sum(dZ3, axis=0, keepdims=True) / m\n",
        "\n",
        "    dA2 = np.dot(dZ3, W3.T)\n",
        "    dZ2 = dA2 * (Z2 > 0)\n",
        "    dW2 = np.dot(A1.T, dZ2) / m\n",
        "    db2 = np.sum(dZ2, axis=0, keepdims=True) / m\n",
        "\n",
        "    dA1 = np.dot(dZ2, W2.T)\n",
        "    dZ1 = dA1 * (Z1 > 0)\n",
        "    dW1 = np.dot(X.T, dZ1) / m\n",
        "    db1 = np.sum(dZ1, axis=0, keepdims=True) / m\n",
        "\n",
        "    # Momentum\n",
        "    if 'VdW1' not in globals():\n",
        "        VdW1 = np.zeros_like(W1)\n",
        "        Vdb1 = np.zeros_like(b1)\n",
        "        VdW2 = np.zeros_like(W2)\n",
        "        Vdb2 = np.zeros_like(b2)\n",
        "        VdW3 = np.zeros_like(W3)\n",
        "        Vdb3 = np.zeros_like(b3)\n",
        "\n",
        "    VdW3 = momentum * VdW3 - learning_rate * dW3\n",
        "    Vdb3 = momentum * Vdb3 - learning_rate * db3\n",
        "    VdW2 = momentum * VdW2 - learning_rate * dW2\n",
        "    Vdb2 = momentum * Vdb2 - learning_rate * db2\n",
        "    VdW1 = momentum * VdW1 - learning_rate * dW1\n",
        "    Vdb1 = momentum * Vdb1 - learning_rate * db1\n",
        "\n",
        "    W1 += VdW1\n",
        "    b1 += Vdb1\n",
        "    W2 += VdW2\n",
        "    b2 += Vdb2\n",
        "    W3 += VdW3\n",
        "    b3 += Vdb3\n",
        "\n",
        "    return W1, b1, W2, b2, W3, b3\n",
        "\n",
        "def calculate_accuracy(y_true, y_pred):\n",
        "    correct_predictions = np.sum(np.argmax(y_true, axis=1) == np.argmax(y_pred, axis=1))\n",
        "    total_samples = y_true.shape[0]\n",
        "    accuracy = correct_predictions / total_samples\n",
        "    return accuracy\n",
        "\n",
        "def train_model(X, y, hidden_size1, hidden_size2, num_classes, learning_rate, epochs, momentum):\n",
        "    input_size = X.shape[1]\n",
        "    W1, b1, W2, b2, W3, b3 = initialize_parameters(input_size, hidden_size1, hidden_size2, num_classes)\n",
        "\n",
        "    for epoch in range(epochs):\n",
        "        Z1, A1, Z2, A2, Z3, A3 = forward_pass(X, W1, b1, W2, b2, W3, b3)\n",
        "        W1, b1, W2, b2, W3, b3 = backward_pass(X, y, Z1, A1, Z2, A2, Z3, A3, W1, b1, W2, b2, W3, b3, learning_rate, momentum)\n",
        "\n",
        "        if epoch % 10 == 0:\n",
        "            loss = -np.mean(np.log(A3[np.arange(len(y)), np.argmax(y, axis=1)]))\n",
        "            accuracy = calculate_accuracy(y, A3)\n",
        "            print(f'Epoch {epoch}, Loss: {loss}, Accuracy: {accuracy*100}')\n",
        "\n",
        "    return W1, b1, W2, b2, W3, b3\n",
        "\n",
        "hidden_size1 = 10\n",
        "hidden_size2 = 10\n",
        "num_classes = 10\n",
        "learning_rate = 0.001\n",
        "epochs = 200\n",
        "momentum = 0.1\n",
        "\n",
        "trained_parameters = train_model(x_train, y_train_one_hot, hidden_size1, hidden_size2, num_classes, learning_rate, epochs, momentum)"
      ],
      "metadata": {
        "id": "CxfdY09Q_jZZ",
        "outputId": "6f709bc8-303b-42e8-c176-d57013d1bacf",
        "colab": {
          "base_uri": "https://localhost:8080/"
        }
      },
      "execution_count": null,
      "outputs": [
        {
          "output_type": "stream",
          "name": "stdout",
          "text": [
            "Epoch 0, Loss: 2.299345247253505, Accuracy: 11.295833333333333\n",
            "Epoch 10, Loss: 2.2041144772190036, Accuracy: 24.058333333333334\n",
            "Epoch 20, Loss: 2.0822070048887173, Accuracy: 27.89375\n",
            "Epoch 30, Loss: 1.93622853233075, Accuracy: 31.683333333333337\n",
            "Epoch 40, Loss: 1.7794096321497563, Accuracy: 36.27708333333333\n",
            "Epoch 50, Loss: 1.6224318227354424, Accuracy: 42.4875\n",
            "Epoch 60, Loss: 1.4656017612105061, Accuracy: 49.27708333333333\n",
            "Epoch 70, Loss: 1.3107360647779496, Accuracy: 62.33541666666667\n",
            "Epoch 80, Loss: 1.1749825925874533, Accuracy: 67.39375\n",
            "Epoch 90, Loss: 1.063348717418282, Accuracy: 69.69375\n",
            "Epoch 100, Loss: 0.9712084603696991, Accuracy: 71.8\n",
            "Epoch 110, Loss: 0.8944768195182846, Accuracy: 73.81875\n",
            "Epoch 120, Loss: 1.0728235699854982, Accuracy: 62.391666666666666\n",
            "Epoch 130, Loss: 0.7987141848615595, Accuracy: 76.61875\n",
            "Epoch 140, Loss: 0.7318648430054, Accuracy: 79.01041666666667\n",
            "Epoch 150, Loss: 0.6919904892343345, Accuracy: 80.45833333333333\n",
            "Epoch 160, Loss: 0.661829377760372, Accuracy: 81.16041666666666\n",
            "Epoch 170, Loss: 0.6312108810976871, Accuracy: 82.04583333333333\n",
            "Epoch 180, Loss: 0.6016329915593935, Accuracy: 83.07708333333333\n",
            "Epoch 190, Loss: 0.5778983014921701, Accuracy: 83.775\n"
          ]
        }
      ]
    },
    {
      "cell_type": "code",
      "source": [],
      "metadata": {
        "id": "O4PIzo1iAKTc"
      },
      "execution_count": null,
      "outputs": []
    }
  ]
}